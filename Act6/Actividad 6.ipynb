{
 "cells": [
  {
   "cell_type": "code",
   "execution_count": 3,
   "metadata": {
    "collapsed": false
   },
   "outputs": [],
   "source": [
    "# PAQUETES\n",
    "import numpy as gatito\n",
    "from scipy import integrate\n",
    "import matplotlib.pyplot as plt\n",
    "import scipy as sp\n",
    "import matplotlib as mpl\n",
    " \n",
    "\n",
    "fig = plt.figure()\n",
    "g = 9.8\n",
    "\n",
    "# VECTORES\n",
    "x = []\n",
    "Ts = []\n",
    "i = 0 # CONTADOR\n",
    " \n",
    "while (i<=90):\n",
    "        i=i+1 \n",
    "        theta0 = (i*gatito.pi)/180 \n",
    "        l = 1 \n",
    "        f = lambda x: 1/gatito.sqrt(gatito.cos(x) - gatito.cos(theta0)) \n",
    "        \n",
    "        #ESTUPIDA Y SENSUAL INTEGRAL\n",
    "        \n",
    "        F, erri = integrate.quad(f,0,theta0)\n",
    "        T = 4 * gatito.sqrt(l/g) * (1/gatito.sqrt(2)) * F\n",
    "       \n",
    "        x.append(i)\n",
    "        Ts.append(T)\n",
    "T0 = 2*gatito.pi*gatito.sqrt(l/g)\n",
    "T = Ts\n",
    "\n",
    "#GRAFICA <3\n",
    "plt.xlabel('Angulo') \n",
    "plt.ylabel('Error Relativo') \n",
    "plt.plot(Ts/T0) \n",
    "plt.show() "
   ]
  },
  {
   "cell_type": "code",
   "execution_count": null,
   "metadata": {
    "collapsed": true
   },
   "outputs": [],
   "source": []
  }
 ],
 "metadata": {
  "kernelspec": {
   "display_name": "Python 2",
   "language": "python",
   "name": "python2"
  },
  "language_info": {
   "codemirror_mode": {
    "name": "ipython",
    "version": 2
   },
   "file_extension": ".py",
   "mimetype": "text/x-python",
   "name": "python",
   "nbconvert_exporter": "python",
   "pygments_lexer": "ipython2",
   "version": "2.7.10"
  }
 },
 "nbformat": 4,
 "nbformat_minor": 0
}
