{
 "cells": [
  {
   "cell_type": "code",
   "execution_count": 9,
   "metadata": {
    "collapsed": false
   },
   "outputs": [
    {
     "ename": "NameError",
     "evalue": "name 'plt' is not defined",
     "output_type": "error",
     "traceback": [
      "\u001b[1;31m---------------------------------------------------------------------------\u001b[0m",
      "\u001b[1;31mNameError\u001b[0m                                 Traceback (most recent call last)",
      "\u001b[1;32m<ipython-input-9-aba2941c494c>\u001b[0m in \u001b[0;36m<module>\u001b[1;34m()\u001b[0m\n\u001b[0;32m     39\u001b[0m         \u001b[0mperiodonnum\u001b[0m\u001b[1;33m[\u001b[0m\u001b[0mj\u001b[0m\u001b[1;33m]\u001b[0m \u001b[1;33m=\u001b[0m \u001b[1;36m2.0\u001b[0m\u001b[1;33m*\u001b[0m\u001b[1;33m(\u001b[0m\u001b[0mgatito\u001b[0m\u001b[1;33m.\u001b[0m\u001b[0mpi\u001b[0m\u001b[1;33m)\u001b[0m\u001b[1;33m*\u001b[0m\u001b[1;33m(\u001b[0m\u001b[0mgatito\u001b[0m\u001b[1;33m.\u001b[0m\u001b[0msqrt\u001b[0m\u001b[1;33m(\u001b[0m\u001b[0ml\u001b[0m\u001b[1;33m/\u001b[0m\u001b[0mg\u001b[0m\u001b[1;33m)\u001b[0m\u001b[1;33m*\u001b[0m\u001b[0mIntegral0\u001b[0m\u001b[1;33m[\u001b[0m\u001b[0mj\u001b[0m\u001b[1;33m]\u001b[0m\u001b[1;33m)\u001b[0m\u001b[1;33m\u001b[0m\u001b[0m\n\u001b[0;32m     40\u001b[0m         \u001b[0mere12\u001b[0m\u001b[1;33m[\u001b[0m\u001b[0mj\u001b[0m\u001b[1;33m]\u001b[0m \u001b[1;33m=\u001b[0m \u001b[0mperiodonnum\u001b[0m\u001b[1;33m[\u001b[0m\u001b[0mj\u001b[0m\u001b[1;33m]\u001b[0m\u001b[1;33m/\u001b[0m\u001b[0mperiodot\u001b[0m\u001b[1;33m\u001b[0m\u001b[0m\n\u001b[1;32m---> 41\u001b[1;33m \u001b[0mplt\u001b[0m\u001b[1;33m.\u001b[0m\u001b[0mshow\u001b[0m\u001b[1;33m(\u001b[0m\u001b[1;33m)\u001b[0m\u001b[1;33m\u001b[0m\u001b[0m\n\u001b[0m",
      "\u001b[1;31mNameError\u001b[0m: name 'plt' is not defined"
     ]
    }
   ],
   "source": [
    "import numpy as gatito\n",
    "import math\n",
    "\n",
    "#PARAMETROS\n",
    "\n",
    "g = 9.806\n",
    "l = 1.00\n",
    "n = 500\n",
    "radianesagrad = 180.0/gatito.pi\n",
    "epsilon = 0.001\n",
    "\n",
    "\n",
    "#DEFINIMOS ALGUNOS VALORES PARA EL ANGULO INICIAL\n",
    "\n",
    "theta0 = gatito.linspace(epsilon, gatito.pi-epsilon, n)\n",
    "\n",
    "#ARREGLOS \n",
    "\n",
    "Integral = [0 for i in range(n)]\n",
    "Integral0 = [0 for i in range(n)]\n",
    "periodonnum = [0 for i in range(n)]\n",
    "sine = [0 for i in range(n)]\n",
    "ere12 = [0 for i in range(n)]\n",
    "\n",
    "#PERIODO APROXIMADO TEORICO PARA ANGULOS PEQUE;OS\n",
    "\n",
    "periodot = 2.0*(gatito.pi)*(gatito.sqrt(l/g))\n",
    "\n",
    "#CALCULAR UN ERROR CON RESPECTO AL TEORICO PARA UNA SERIE DE TERMINOS L\n",
    "\n",
    "L = 2 \n",
    "for i in range(0, L):\n",
    "    for j in range(0,n):\n",
    "        fac1 = float(math.factorial(2*(i)))\n",
    "        fac2 = float((2**(i)*math.factorial(i))**2)\n",
    "        sine[j] = gatito.sin(theta0[j]/2)**(2*(i))\n",
    "        Integral[j] = ((fac1/fac2)**2)*sine[j]\n",
    "        Integral0[j] = Integral0[j] + Integral[j]\n",
    "        periodonnum[j] = 2.0*(gatito.pi)*(gatito.sqrt(l/g)*Integral0[j])\n",
    "        ere12[j] = periodonnum[j]/periodot\n"
   ]
  },
  {
   "cell_type": "code",
   "execution_count": null,
   "metadata": {
    "collapsed": true
   },
   "outputs": [],
   "source": []
  }
 ],
 "metadata": {
  "kernelspec": {
   "display_name": "Python 2",
   "language": "python",
   "name": "python2"
  },
  "language_info": {
   "codemirror_mode": {
    "name": "ipython",
    "version": 2
   },
   "file_extension": ".py",
   "mimetype": "text/x-python",
   "name": "python",
   "nbconvert_exporter": "python",
   "pygments_lexer": "ipython2",
   "version": "2.7.10"
  }
 },
 "nbformat": 4,
 "nbformat_minor": 0
}
