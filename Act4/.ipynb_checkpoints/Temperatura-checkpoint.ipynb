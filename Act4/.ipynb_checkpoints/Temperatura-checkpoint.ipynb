{
 "metadata": {
  "name": "",
  "signature": "sha256:855e0af8e7a134744abea9f8bcf2d1d9c65acc536babdf116b4472bd13ca6a4d"
 },
 "nbformat": 3,
 "nbformat_minor": 0,
 "worksheets": []
}