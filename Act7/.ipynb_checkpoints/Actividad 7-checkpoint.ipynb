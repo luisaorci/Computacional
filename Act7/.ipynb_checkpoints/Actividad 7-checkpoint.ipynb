{
 "cells": [
  {
   "cell_type": "code",
   "execution_count": 8,
   "metadata": {
    "collapsed": false
   },
   "outputs": [],
   "source": [
    "#PAQUETES\n",
    "import numpy as gatito\n",
    "import matplotlib.pyplot as plt\n",
    "from scipy.integrate import odeint\n",
    "\n",
    "#CONSTANTES\n",
    "\n",
    "g = 9.8\n",
    "l = 1.0\n",
    "b = 0.0 \n",
    "c = g/l\n",
    "\n",
    "#CONDICIONES INICIALES\n",
    "X_f1 = gatito.array([-4.0*gatito.pi,4.0*gatito.pi])\n",
    "X_f2 = gatito.array([-2.0*gatito.pi,-0.0*gatito.pi]) \n",
    "t = gatito.linspace(-0.0*gatito.pi,5.0*gatito.pi,500) \n",
    "#Definimos la ecuacion diferencial del pendulo\n",
    "def p (y, t, b, c):\n",
    "    theta, omega = y\n",
    "    dy_dt = [omega,-b*omega -c*gatito.sin(theta)]\n",
    "    return dy_dt\n",
    "\n",
    "#COLOR Y NUMERO DE PUNTOS\n",
    "\n",
    "values  = gatito.linspace(-1.0,1.0,100) #Numero de puntos             \n",
    "vcolors = plt.cm.winter_r(gatito.linspace(0.5, 1.0, len(values)))#Color\n",
    "plt.figure(2)\n",
    "\n",
    "# TRAYECTORIA 1\n",
    "for v, col in zip(values, vcolors):\n",
    "    y0 = v * X_f1                              \n",
    "    \n",
    "    X = odeint(p, y0, t, args=(b,c))         \n",
    "    plt.plot( X[:,0], X[:,1], lw=3.5*v, color=col, label='X0=(%.f, %.f)' % ( y0[0], y0[1]) )\n",
    "\n",
    "#Definimos la trayectoria 1\n",
    "for v, col in zip(values, vcolors):\n",
    "    y1 = v * X_f2                           \n",
    "    X1 = odeint(p, y1, t, args=(b,c))           \n",
    "    plt.plot( X1[:,0], X1[:,1], lw=3.5*v, color=col, label='X0=(%.f, %.f)' % ( y1[0], y1[1]) )\n",
    "\n",
    "#Grafica\n",
    "plt.title('Trayectorias')\n",
    "plt.xlabel('Angulo')\n",
    "plt.ylabel('Velocidad Angular')\n",
    "plt.grid()\n",
    "plt.xlim(-2.0*gatito.pi,2.0*gatito.pi)\n",
    "plt.ylim(-10,10)\n",
    "plt.show()"
   ]
  },
  {
   "cell_type": "code",
   "execution_count": null,
   "metadata": {
    "collapsed": true
   },
   "outputs": [],
   "source": []
  }
 ],
 "metadata": {
  "kernelspec": {
   "display_name": "Python 2",
   "language": "python",
   "name": "python2"
  },
  "language_info": {
   "codemirror_mode": {
    "name": "ipython",
    "version": 2
   },
   "file_extension": ".py",
   "mimetype": "text/x-python",
   "name": "python",
   "nbconvert_exporter": "python",
   "pygments_lexer": "ipython2",
   "version": "2.7.10"
  }
 },
 "nbformat": 4,
 "nbformat_minor": 0
}
