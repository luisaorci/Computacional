{
 "metadata": {
  "name": "",
  "signature": "sha256:20ddb16bb3ee4811aec5776207192b8404154471f5fe667410e930cb8a57428b"
 },
 "nbformat": 3,
 "nbformat_minor": 0,
 "worksheets": [
  {
   "cells": [
    {
     "cell_type": "code",
     "collapsed": false,
     "input": [
      "from math import pi\n",
      "T = float(input(\"Proporciona el periodo del s\u00e1telite en minutos: \"))\n",
      "t = T*60\n",
      "h = ((((6.67e-11)*(5.97e24)*(t**2))/(4*(pi**2)))**1./3) - 6371000\n",
      "print(\"La altura del s\u00e1telite es\", h, \"metros\")"
     ],
     "language": "python",
     "metadata": {},
     "outputs": [
      {
       "name": "stdout",
       "output_type": "stream",
       "stream": "stdout",
       "text": [
        "Proporciona el periodo del s\u00e1telite en minutos: 45\n"
       ]
      },
      {
       "output_type": "stream",
       "stream": "stdout",
       "text": [
        "('La altura del s\\xc3\\xa1telite es', 2.451019135814975e+19, 'metros')\n"
       ]
      }
     ],
     "prompt_number": 26
    },
    {
     "cell_type": "code",
     "collapsed": false,
     "input": [],
     "language": "python",
     "metadata": {},
     "outputs": []
    }
   ],
   "metadata": {}
  }
 ]
}