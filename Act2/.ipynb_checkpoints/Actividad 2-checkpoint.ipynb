{
 "cells": [
  {
   "cell_type": "code",
   "execution_count": 1,
   "metadata": {
    "collapsed": false
   },
   "outputs": [
    {
     "name": "stdout",
     "output_type": "stream",
     "text": [
      "Proporciona la altura de la torre: 20\n",
      "('El tiempo que tarda la pelota en llegar al suelo es', 2.0203050891044216, 'segundos')\n"
     ]
    }
   ],
   "source": [
    "from math import sqrt\n",
    "h = float(input(\"Proporciona la altura de la torre: \"))\n",
    "t = sqrt(h/(.5*9.8))\n",
    "print (\"El tiempo que tarda la pelota en llegar al suelo es\", t, \"segundos\")\n"
   ]
  },
  {
   "cell_type": "code",
   "execution_count": 4,
   "metadata": {
    "collapsed": false
   },
   "outputs": [
    {
     "name": "stdout",
     "output_type": "stream",
     "text": [
      "Ingrse un valor para el periodo en segundos5400\n",
      "('El valor de la altitud del satelite sobre la superficie terrestre es', 279321.6253728606, 'metros')\n"
     ]
    }
   ],
   "source": [
    "from math import pi\n",
    "T = float(input(\"Ingrse un valor para el periodo en segundos\" ))\n",
    "G = 6.67e-11\n",
    "M = 5.97e24\n",
    "R = 6371000\n",
    "h = (((G*M*T*T)/(4*pi*pi))**(1./3.)) - R\n",
    "print (\"El valor de la altitud del satelite sobre la superficie terrestre es\", h, \"metros\")\n"
   ]
  },
  {
   "cell_type": "code",
   "execution_count": 6,
   "metadata": {
    "collapsed": false
   },
   "outputs": [
    {
     "name": "stdout",
     "output_type": "stream",
     "text": [
      "Introduce un valor para x:5\n",
      "Introduce un valor para y:10\n",
      "Introduce un valor para z:5\n",
      "('r = ', 12.24744871391589, 'theta = ', 1.1502619915109316, 'phi = ', 1.1071487177940904)\n"
     ]
    }
   ],
   "source": [
    "from math import sin, cos, pi, acos, atan, sqrt\n",
    "x = float(input(\"Introduce un valor para x:\"))\n",
    "y = float(input(\"Introduce un valor para y:\"))\n",
    "z = float(input(\"Introduce un valor para z:\"))\n",
    "\n",
    "r = sqrt((x**2) + (y**2) + (z**2))\n",
    "theta = acos((z/r))\n",
    "phi = atan((y/x))\n",
    "\n",
    "print(\"r = \", r, \"theta = \", theta, \"phi = \", phi)"
   ]
  },
  {
   "cell_type": "code",
   "execution_count": 7,
   "metadata": {
    "collapsed": false
   },
   "outputs": [
    {
     "name": "stdout",
     "output_type": "stream",
     "text": [
      "1\n",
      "2\n",
      "3\n",
      "5\n",
      "8\n",
      "13\n",
      "21\n",
      "34\n",
      "55\n",
      "89\n",
      "144\n",
      "233\n",
      "377\n",
      "610\n",
      "987\n"
     ]
    }
   ],
   "source": [
    "f1, f2 = 1, 1\n",
    "while f2<1000:\n",
    "    print(f2)\n",
    "    f1, f2 = f2, f1+f2"
   ]
  },
  {
   "cell_type": "code",
   "execution_count": 8,
   "metadata": {
    "collapsed": false
   },
   "outputs": [
    {
     "name": "stdout",
     "output_type": "stream",
     "text": [
      "1.0\n",
      "1.0\n",
      "2.0\n",
      "5.0\n",
      "14.0\n",
      "42.0\n",
      "132.0\n",
      "429.0\n",
      "1430.0\n",
      "4862.0\n",
      "16796.0\n",
      "58786.0\n",
      "208012.0\n",
      "742900.0\n"
     ]
    }
   ],
   "source": [
    "n, c = 0., 1.\n",
    "while c<=1000000:\n",
    "    print(c)\n",
    "    n, c = (n+1), (2*(2*n+1)/(n+2))*c"
   ]
  },
  {
   "cell_type": "code",
   "execution_count": null,
   "metadata": {
    "collapsed": true
   },
   "outputs": [],
   "source": []
  }
 ],
 "metadata": {
  "kernelspec": {
   "display_name": "Python 2",
   "language": "python",
   "name": "python2"
  },
  "language_info": {
   "codemirror_mode": {
    "name": "ipython",
    "version": 2
   },
   "file_extension": ".py",
   "mimetype": "text/x-python",
   "name": "python",
   "nbconvert_exporter": "python",
   "pygments_lexer": "ipython2",
   "version": "2.7.10"
  }
 },
 "nbformat": 4,
 "nbformat_minor": 0
}
