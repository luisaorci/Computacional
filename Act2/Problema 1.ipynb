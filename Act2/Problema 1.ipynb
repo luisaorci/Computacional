{
 "metadata": {
  "name": "",
  "signature": "sha256:489a148ef5c6d60a55741d496c1c4f4647b3ec4e88ac84412959d180afb5f2eb"
 },
 "nbformat": 3,
 "nbformat_minor": 0,
 "worksheets": [
  {
   "cells": [
    {
     "cell_type": "code",
     "collapsed": false,
     "input": [
      "from math import sqrt\n",
      "h = float(input(\"Proporciona la altura de la torre: \"))\n",
      "t = sqrt(h/(.5*9.8))\n",
      "print(\"El tiempo que tarda la pelota en llegar al suelo es\", t, \"segundos\")"
     ],
     "language": "python",
     "metadata": {},
     "outputs": [
      {
       "name": "stdout",
       "output_type": "stream",
       "stream": "stdout",
       "text": [
        "Proporciona la altura de la torre: 5\n"
       ]
      },
      {
       "output_type": "stream",
       "stream": "stdout",
       "text": [
        "('El tiempo que tarda la pelota en llegar al suelo es', 1.0101525445522108, 'segundos')\n"
       ]
      }
     ],
     "prompt_number": 2
    },
    {
     "cell_type": "code",
     "collapsed": false,
     "input": [],
     "language": "python",
     "metadata": {},
     "outputs": []
    }
   ],
   "metadata": {}
  }
 ]
}