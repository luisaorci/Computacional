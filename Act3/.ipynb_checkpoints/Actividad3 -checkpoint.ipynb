{
 "cells": [
  {
   "cell_type": "code",
   "execution_count": 1,
   "metadata": {
    "collapsed": true
   },
   "outputs": [],
   "source": [
    "import numpy as gatito\n",
    "import matplotlib.pyplot as plt\n",
    "from scipy.interpolate import interp1d\n",
    "from math import sin\n",
    "\n",
    "x00 = gatito.random.random(10)\n",
    "x0 = 3*x00\n",
    "\n",
    "y0 = gatito.sin(2*x0)\n",
    "\n",
    "plt.plot(x0, y0, 'o', label='Data')\n",
    "\n",
    "x = gatito.linspace(min(x0), max(x0), 101)\n",
    "\n",
    "options = ('linear', 'quadratic', 'cubic')\n",
    "\n",
    "for o in options:\n",
    "    f = interp1d(x0, y0, kind=o)\n",
    "    plt.plot(x, f(x), label=o)\n",
    "\n",
    "plt.legend()\n",
    "plt.show()"
   ]
  },
  {
   "cell_type": "code",
   "execution_count": 3,
   "metadata": {
    "collapsed": false
   },
   "outputs": [],
   "source": [
    "import numpy as gatito\n",
    "import matplotlib.pyplot as plt\n",
    "from scipy.interpolate import interp1d\n",
    "from math import sin\n",
    "\n",
    "x00 = gatito.random.random(20)\n",
    "x0 = 20*x00-10\n",
    "y0 = gatito.sin(x0)/x0\n",
    "\n",
    "plt.plot(x0, y0, 'o', label='Data')\n",
    "\n",
    "x = gatito.linspace(min(x0), max(x0), 101)\n",
    "\n",
    "options = ('linear', 'quadratic', 'cubic')\n",
    "\n",
    "for o in options:\n",
    "    f = interp1d(x0, y0, kind=o)\n",
    "    plt.plot(x, f(x), label=o)\n",
    "plt.legend()\n",
    "plt.show()\n"
   ]
  },
  {
   "cell_type": "code",
   "execution_count": 4,
   "metadata": {
    "collapsed": true
   },
   "outputs": [],
   "source": [
    "import numpy as gatito\n",
    "import matplotlib.pyplot as plt\n",
    "from scipy.interpolate import interp1d\n",
    "from math import sin\n",
    "\n",
    "x00 = gatito.random.random(16)\n",
    "x0 = 6*x00-3\n",
    "y0 = x0**2*gatito.sin(2*x0)\n",
    "\n",
    "plt.plot(x0, y0, 'o', label='Data')\n",
    "\n",
    "\n",
    "\n",
    "x= gatito.linspace(min(x0), max(x0), 101)\n",
    "options = ('linear', 'quadratic', 'cubic')\n",
    "\n",
    "for o in options: \n",
    "    f = interp1d(x0, y0, kind=o)\n",
    "    plt.plot(x, f(x), label=o)\n",
    "    \n",
    "plt.legend()\n",
    "plt.show()"
   ]
  },
  {
   "cell_type": "code",
   "execution_count": 5,
   "metadata": {
    "collapsed": true
   },
   "outputs": [],
   "source": [
    "import numpy as gatiux\n",
    "import matplotlib.pyplot as plt\n",
    "from scipy.interpolate import interp1d\n",
    "from math import sin\n",
    "\n",
    "x00 = gatiux.random.random(12)\n",
    "x0 = 4*x00-2\n",
    "y0 = x0**3*gatiux.sin(3*x0)\n",
    "\n",
    "plt.plot(x0, y0, 'o', label='Data')\n",
    "\n",
    "x = gatiux.linspace(min(x0), max(x0), 101)\n",
    "\n",
    "options = ('linear', 'quadratic', 'cubic')\n",
    "\n",
    "for o in options:\n",
    "    f = interp1d(x0, y0, kind=o)\n",
    "    plt.plot(x, f(x), label=o)\n",
    "\n",
    "plt.legend()\n",
    "plt.show()"
   ]
  },
  {
   "cell_type": "code",
   "execution_count": null,
   "metadata": {
    "collapsed": true
   },
   "outputs": [],
   "source": []
  }
 ],
 "metadata": {
  "kernelspec": {
   "display_name": "Python 2",
   "language": "python",
   "name": "python2"
  },
  "language_info": {
   "codemirror_mode": {
    "name": "ipython",
    "version": 2
   },
   "file_extension": ".py",
   "mimetype": "text/x-python",
   "name": "python",
   "nbconvert_exporter": "python",
   "pygments_lexer": "ipython2",
   "version": "2.7.10"
  }
 },
 "nbformat": 4,
 "nbformat_minor": 0
}
