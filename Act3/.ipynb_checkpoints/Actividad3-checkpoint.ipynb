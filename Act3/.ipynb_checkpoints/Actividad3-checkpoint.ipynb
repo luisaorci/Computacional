{
 "cells": [
  {
   "cell_type": "code",
   "execution_count": null,
   "metadata": {
    "collapsed": true
   },
   "outputs": [],
   "source": []
  },
  {
   "cell_type": "code",
   "execution_count": 4,
   "metadata": {
    "collapsed": false
   },
   "outputs": [],
   "source": [
    "import numpy as gatito\n",
    "import matplotlib.pyplot as plt\n",
    "from scipy.interpolate import interp1d\n",
    "from math import sin\n",
    "\n",
    "x0 = gatito.linspace(-10, 10, 20)\n",
    "y0 = gatito.sin(x0)/x0\n",
    "\n",
    "plt.plot(x0, y0, 'o', label='Data')\n",
    "\n",
    "x = gatito.linspace(-10, 10, 101)\n",
    "\n",
    "options = ('linear', 'quadratic', 'cubic')\n",
    "\n",
    "for o in options:\n",
    "    f = interp1d(x0, y0, kind=o)\n",
    "    plt.plot(x, f(x), label=o)\n",
    "plt.legend()\n",
    "plt.show()"
   ]
  },
  {
   "cell_type": "code",
   "execution_count": 5,
   "metadata": {
    "collapsed": true
   },
   "outputs": [],
   "source": [
    "import numpy as gatito\n",
    "import matplotlib.pyplot as plt\n",
    "from scipy.interpolate import interp1d\n",
    "from math import sin\n",
    "\n",
    "x0 = gatito.linspace(-3,3,16)\n",
    "y0 = x0**2*gatito.sin(2*x0)\n",
    "\n",
    "plt.plot(x0, y0, 'o', label='Data')\n",
    "\n",
    "x = gatito.linspace(-3,3,101)\n",
    "\n",
    "options = ('linear', 'quadratic', 'cubic')\n",
    "\n",
    "for o in options: \n",
    "    f = interp1d(x0, y0, kind=o)\n",
    "    plt.plot(x, f(x), label=o)\n",
    "    \n",
    "plt.legend()\n",
    "plt.show()"
   ]
  },
  {
   "cell_type": "code",
   "execution_count": 6,
   "metadata": {
    "collapsed": true
   },
   "outputs": [],
   "source": [
    "import numpy as gatiux\n",
    "import matplotlib.pyplot as plt\n",
    "from scipy.interpolate import interp1d\n",
    "from math import sin\n",
    "\n",
    "x0 = gatiux.linspace(-2,2,12)\n",
    "y0 = x0**3*gatiux.sin(3*x0)\n",
    "\n",
    "plt.plot(x0, y0, 'o', label='Data')\n",
    "\n",
    "x = gatiux.linspace(-2,2,101)\n",
    "\n",
    "options = ('linear', 'quadratic', 'cubic')\n",
    "\n",
    "for o in options:\n",
    "    f = interp1d(x0, y0, kind=o)\n",
    "    plt.plot(x, f(x), label=o)\n",
    "\n",
    "plt.legend()\n",
    "plt.show()"
   ]
  },
  {
   "cell_type": "code",
   "execution_count": null,
   "metadata": {
    "collapsed": true
   },
   "outputs": [],
   "source": []
  }
 ],
 "metadata": {
  "kernelspec": {
   "display_name": "Python 2",
   "language": "python",
   "name": "python2"
  },
  "language_info": {
   "codemirror_mode": {
    "name": "ipython",
    "version": 2
   },
   "file_extension": ".py",
   "mimetype": "text/x-python",
   "name": "python",
   "nbconvert_exporter": "python",
   "pygments_lexer": "ipython2",
   "version": "2.7.10"
  }
 },
 "nbformat": 4,
 "nbformat_minor": 0
}
