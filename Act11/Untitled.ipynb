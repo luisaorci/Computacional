{
 "cells": [
  {
   "cell_type": "code",
   "execution_count": 1,
   "metadata": {
    "collapsed": false
   },
   "outputs": [
    {
     "data": {
      "text/plain": [
       "<matplotlib.legend.Legend at 0x7f788fd06bd0>"
      ]
     },
     "execution_count": 1,
     "metadata": {},
     "output_type": "execute_result"
    }
   ],
   "source": [
    "import numpy as gatito\n",
    "import matplotlib.pyplot as plt\n",
    "from scipy.integrate import odeint\n",
    "plt.ion()\n",
    "plt.rcParams['figure.figsize'] = 10, 8\n",
    "\n",
    "Pi = 0        # Nacimientos Diarios\n",
    "Del = 0.0001  # Muertes Naturales %  (Por dia)\n",
    "Bet = 0.0095  # Transmision       %  (Por dia)\n",
    "Zet = 0.0001  # Removidos         %  (Por dia)\n",
    "Alf = 0.005   # Destruidos        %  (Por dia)\n",
    "\n",
    "#Sistema de Ecuaciones Diferenciales \n",
    "def f(y, t):\n",
    "    Si = y[0]\n",
    "    Zi = y[1]\n",
    "    Ri = y[2]\n",
    "    # Modelo \n",
    "    f0 = Pi - Bet*Si*Zi - Del*Si              #Si\n",
    "    f1 = Bet*Si*Zi + Zet*Ri - Alf*Si*Zi       #Zi \n",
    "    f2 = Del*Si + Alf*Si*Zi - Zet*Ri          #Ri\n",
    "    return [f0, f1, f2]\n",
    "\n",
    "S0 = 500.                        # Poblacion Inicial\n",
    "Z0 = 0                           # Zombie Inicial\n",
    "R0 = 0                           # Muertos Inicial\n",
    "y0 = [S0, Z0, R0]                # Condicion Inicial\n",
    "t  = gatito.linspace(0, 14., 1000)   #Tiempo\n",
    "\n",
    "# Solucion E.D\n",
    "soln = odeint(f, y0, t)\n",
    "S = soln[:, 0]\n",
    "Z = soln[:, 1]\n",
    "R = soln[:, 2]\n",
    "# Grafica\n",
    "plt.figure()\n",
    "plt.ylim(0,600)\n",
    "plt.grid(True)\n",
    "plt.plot(t, S, label='Vivos')\n",
    "plt.plot(t, Z, label='Zombies')\n",
    "plt.xlabel('Tiempo')\n",
    "plt.ylabel('Poblacion')\n",
    "plt.title('Apocalipsis Zombie - Modelo Basico')\n",
    "plt.legend(loc=\"best\")"
   ]
  },
  {
   "cell_type": "code",
   "execution_count": 2,
   "metadata": {
    "collapsed": false
   },
   "outputs": [
    {
     "data": {
      "text/plain": [
       "<matplotlib.legend.Legend at 0x7f788fc17e50>"
      ]
     },
     "execution_count": 2,
     "metadata": {},
     "output_type": "execute_result"
    }
   ],
   "source": [
    "import numpy as gatito\n",
    "import matplotlib.pyplot as plt\n",
    "from scipy.integrate import odeint\n",
    "plt.ion()\n",
    "plt.rcParams['figure.figsize'] = 10, 8\n",
    "\n",
    "Pi = 0         # Nacimientos Diarios\n",
    "Del = 0.0001   # Muertes Naturales %  (Por dia)\n",
    "Bet = 0.0095   # Transmision       %  (Por dia)\n",
    "Zet = 0.0001   # Removidos         %  (Por dia)\n",
    "Alf = 0.0001   # Destruidos        %  (Por dia)\n",
    "Rho = 0.05     # Infected          %  (Por dia)\n",
    "\n",
    "#Sistema de Ecuaciones Diferenciales \n",
    "def f(y, t):\n",
    "    Si = y[0]\n",
    "    Zi = y[1]\n",
    "    Ri = y[2]\n",
    "    Ii = y[3]\n",
    "    # Modelo\n",
    "    f0 = Pi - Bet*Si*Zi - Del*Si                #Si\n",
    "    f1 = Rho*Ii + Zet*Ri - Alf*Si*Zi            #Zi\n",
    "    f2 = Del*Si + Del*Ii + Alf*Si*Zi - Zet*Ri   #Ri\n",
    "    f3 = Bet*Si*Zi -Rho*Ii - Del*Ii             #Ii\n",
    "    \n",
    "    return [f0, f1, f2, f3]\n",
    "\n",
    "S0 = 500.                        # Poblacion Inicial\n",
    "Z0 = 0.                          # Zombie Inicial\n",
    "R0 = 0.                          # Muertos Inicial\n",
    "I0 = 1.                          # Infectados Inicial\n",
    "y0 = [S0, Z0, R0, I0]            # Condiciones Iniciales\n",
    "t  = gatito.linspace(0., 30., 1000)  # Tiempo\n",
    "\n",
    "# Solucion E.D.\n",
    "soln = odeint(f, y0, t)\n",
    "S = soln[:, 0]\n",
    "Z = soln[:, 1]\n",
    "R = soln[:, 2]\n",
    "I = soln[:, 3]\n",
    "# Grafica\n",
    "plt.figure()\n",
    "plt.ylim(0,600)\n",
    "plt.grid(True)\n",
    "plt.plot(t, S, label='Vivos')\n",
    "plt.plot(t, Z, label='Zombies')\n",
    "plt.xlabel('Tiempo')\n",
    "plt.ylabel('Poblacion')\n",
    "plt.title('Apocalipsis Zombie - Modelo Latente.')\n",
    "plt.legend(loc=\"best\")"
   ]
  },
  {
   "cell_type": "code",
   "execution_count": 1,
   "metadata": {
    "collapsed": false
   },
   "outputs": [
    {
     "data": {
      "text/plain": [
       "<matplotlib.legend.Legend at 0x7fb8fa113910>"
      ]
     },
     "execution_count": 1,
     "metadata": {},
     "output_type": "execute_result"
    }
   ],
   "source": [
    "# zombie apocalypse modeling\n",
    "import numpy as gatito\n",
    "import matplotlib.pyplot as plt\n",
    "from scipy.integrate import odeint\n",
    "plt.ion()\n",
    "plt.rcParams['figure.figsize'] = 10, 8\n",
    "\n",
    "Pi = 0         # Nacimientos Diarios\n",
    "Del = 0.0001   # Muertes Naturales %  (Por dia)\n",
    "Bet = 0.0095   # Transmision       %  (Por dia)\n",
    "Zet = 0.0001   # Removidos         %  (Por dia)\n",
    "Alf = 0.0001   # Destruidos        %  (Por dia)\n",
    "Rho = 0.05     # Infected          %  (Por dia)\n",
    "Kap = 0.15     # Infectados Q      %  (Por dia)\n",
    "Sig = 0.10     # Infected          %  (Por dia)\n",
    "Gam = 0.001    # Infected          %  (Por dia)\n",
    "\n",
    "#Sistema de Ecuaciones Diferenciales \n",
    "def f(y, t):\n",
    "    Si = y[0]\n",
    "    Zi = y[1]\n",
    "    Ri = y[2]\n",
    "    Ii = y[3]\n",
    "    Qi = y[4]\n",
    "    # Modelo\n",
    "    f0 = Pi - Bet*Si*Zi - Del*Si                        #Si\n",
    "    f1 = Rho*Ii + Zet*Ri - Alf*Si*Zi - Sig*Zi           #Zi\n",
    "    f2 = Del*Si + Del*Ii + Alf*Si*Zi - Zet*Ri + Gam*Qi  #Ri\n",
    "    f3 = Bet*Si*Zi -Rho*Ii - Del*Ii - Kap*Ii            #Ii\n",
    "    f4 = Kap*Ii + Sig*Zi - Gam*Qi                       #Qi\n",
    "    return [f0, f1, f2, f3, f4]\n",
    "\n",
    "S0 = 500.                        # Poblacion Inicial\n",
    "Z0 = 0.                          # Zombie Inicial\n",
    "R0 = 0.                          # Muertos Inicial\n",
    "I0 = 1.                          # Infectados Inicial\n",
    "Q0 = 0.\t\t\t\t # Cuarentena Inicial\n",
    "y0 = [S0, Z0, R0, I0, Q0]        # Condiciones Iniciales\n",
    "t  = gatito.linspace(0., 30., 1000)  # Tiempo\n",
    "\n",
    "# Solucion E.D.\n",
    "soln = odeint(f, y0, t)\n",
    "S = soln[:, 0]\n",
    "Z = soln[:, 1]\n",
    "R = soln[:, 2]\n",
    "I = soln[:, 3]\n",
    "Q = soln[:, 4]\n",
    "# Grafica\n",
    "plt.figure()\n",
    "plt.ylim(0,600)\n",
    "plt.grid(True)\n",
    "plt.plot(t, S, label='Vivos')\n",
    "plt.plot(t, Z, label='Zombies')\n",
    "plt.xlabel('Tiempo')\n",
    "plt.ylabel('Poblacion')\n",
    "plt.title('Apocalipsis Zombie - Modelo Caurentena.')\n",
    "plt.legend(loc=\"best\")"
   ]
  },
  {
   "cell_type": "code",
   "execution_count": 2,
   "metadata": {
    "collapsed": false
   },
   "outputs": [
    {
     "ename": "NameError",
     "evalue": "name 'gtito' is not defined",
     "output_type": "error",
     "traceback": [
      "\u001b[1;31m---------------------------------------------------------------------------\u001b[0m",
      "\u001b[1;31mNameError\u001b[0m                                 Traceback (most recent call last)",
      "\u001b[1;32m<ipython-input-2-ff13d4c93eff>\u001b[0m in \u001b[0;36m<module>\u001b[1;34m()\u001b[0m\n\u001b[0;32m     32\u001b[0m \u001b[0mI0\u001b[0m \u001b[1;33m=\u001b[0m \u001b[1;36m1.\u001b[0m                          \u001b[1;31m# Infectados Inicial\u001b[0m\u001b[1;33m\u001b[0m\u001b[0m\n\u001b[0;32m     33\u001b[0m \u001b[0my0\u001b[0m \u001b[1;33m=\u001b[0m \u001b[1;33m[\u001b[0m\u001b[0mS0\u001b[0m\u001b[1;33m,\u001b[0m \u001b[0mZ0\u001b[0m\u001b[1;33m,\u001b[0m \u001b[0mR0\u001b[0m\u001b[1;33m,\u001b[0m \u001b[0mI0\u001b[0m\u001b[1;33m]\u001b[0m            \u001b[1;31m# Condiciones Iniciales\u001b[0m\u001b[1;33m\u001b[0m\u001b[0m\n\u001b[1;32m---> 34\u001b[1;33m \u001b[0mt\u001b[0m  \u001b[1;33m=\u001b[0m \u001b[0mgtito\u001b[0m\u001b[1;33m.\u001b[0m\u001b[0mlinspace\u001b[0m\u001b[1;33m(\u001b[0m\u001b[1;36m0.\u001b[0m\u001b[1;33m,\u001b[0m \u001b[1;36m30.\u001b[0m\u001b[1;33m,\u001b[0m \u001b[1;36m1000\u001b[0m\u001b[1;33m)\u001b[0m  \u001b[1;31m# Tiempo\u001b[0m\u001b[1;33m\u001b[0m\u001b[0m\n\u001b[0m\u001b[0;32m     35\u001b[0m \u001b[1;33m\u001b[0m\u001b[0m\n\u001b[0;32m     36\u001b[0m \u001b[1;31m# Solucion E.D.\u001b[0m\u001b[1;33m\u001b[0m\u001b[1;33m\u001b[0m\u001b[0m\n",
      "\u001b[1;31mNameError\u001b[0m: name 'gtito' is not defined"
     ]
    }
   ],
   "source": [
    "import numpy as gatito\n",
    "import matplotlib.pyplot as plt\n",
    "from scipy.integrate import odeint\n",
    "plt.ion()\n",
    "plt.rcParams['figure.figsize'] = 10, 8\n",
    "\n",
    "Pi  = 0        # Nacimientos Diarios\n",
    "Del = 0.0001   # Muertes Naturales %  (Por dia)\n",
    "Bet = 0.0095   # Transmision       %  (Por dia)\n",
    "Zet = 0.0001   # Removidos         %  (Por dia)\n",
    "Alf = 0.0001   # Destruidos        %  (Por dia)\n",
    "Rho = 0.05     # Infected          %  (Por dia)\n",
    "Ce  = 0.05     # Cura              %  (Por dia)\n",
    "\n",
    "#Sistema de Ecuaciones Diferenciales \n",
    "def f(y, t):\n",
    "    Si = y[0]\n",
    "    Zi = y[1]\n",
    "    Ri = y[2]\n",
    "    Ii = y[3]\n",
    "    # Modelo\n",
    "    f0 = Pi - Bet*Si*Zi - Del*Si +Ce*Zi             #Si\n",
    "    f1 = Rho*Ii + Zet*Ri - Alf*Si*Zi -Ce*Zi         #Zi\n",
    "    f2 = Del*Si + Del*Ii + Alf*Si*Zi - Zet*Ri       #Ri\n",
    "    f3 = Bet*Si*Zi -Rho*Ii - Del*Ii                 #Ii\n",
    "    \n",
    "    return [f0, f1, f2, f3]\n",
    "\n",
    "S0 = 500.                        # Poblacion Inicial\n",
    "Z0 = 0.                          # Zombie Inicial\n",
    "R0 = 0.                          # Muertos Inicial\n",
    "I0 = 1.                          # Infectados Inicial\n",
    "y0 = [S0, Z0, R0, I0]            # Condiciones Iniciales\n",
    "t  = gatito.linspace(0., 30., 1000)  # Tiempo\n",
    "\n",
    "# Solucion E.D.\n",
    "soln = odeint(f, y0, t)\n",
    "S = soln[:, 0]\n",
    "Z = soln[:, 1]\n",
    "R = soln[:, 2]\n",
    "I = soln[:, 3]\n",
    "# Grafica\n",
    "plt.figure()\n",
    "plt.ylim(0,500)\n",
    "plt.grid(True)\n",
    "plt.plot(t, S, label='Vivos')\n",
    "plt.plot(t, Z, label='Zombies')\n",
    "plt.xlabel('Tiempo')\n",
    "plt.ylabel('Poblacion')\n",
    "plt.title('Apocalipsis Zombie - Modelo Tratamiento.')\n",
    "plt.legend(loc=\"best\")"
   ]
  },
  {
   "cell_type": "code",
   "execution_count": null,
   "metadata": {
    "collapsed": true
   },
   "outputs": [],
   "source": []
  }
 ],
 "metadata": {
  "kernelspec": {
   "display_name": "Python 2",
   "language": "python",
   "name": "python2"
  },
  "language_info": {
   "codemirror_mode": {
    "name": "ipython",
    "version": 2
   },
   "file_extension": ".py",
   "mimetype": "text/x-python",
   "name": "python",
   "nbconvert_exporter": "python",
   "pygments_lexer": "ipython2",
   "version": "2.7.10"
  }
 },
 "nbformat": 4,
 "nbformat_minor": 0
}
