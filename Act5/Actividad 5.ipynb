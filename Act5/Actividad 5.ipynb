{
 "cells": [
  {
   "cell_type": "code",
   "execution_count": 2,
   "metadata": {
    "collapsed": false
   },
   "outputs": [],
   "source": [
    "import numpy as np\n",
    ">>> def pend(y, t, b, c):\n",
    "...     theta, omega = y\n",
    "...     dydt = [omega, -b*omega - c*np.sin(theta)]\n",
    "...     return dydt\n",
    "..."
   ]
  },
  {
   "cell_type": "code",
   "execution_count": 3,
   "metadata": {
    "collapsed": false
   },
   "outputs": [],
   "source": [
    ">>> b = 0.25\n",
    ">>> c = 5.0"
   ]
  },
  {
   "cell_type": "code",
   "execution_count": 4,
   "metadata": {
    "collapsed": false
   },
   "outputs": [],
   "source": [
    ">>> y0 = [np.pi - 0.1, 0.0]"
   ]
  },
  {
   "cell_type": "code",
   "execution_count": 5,
   "metadata": {
    "collapsed": false
   },
   "outputs": [],
   "source": [
    ">>> t = np.linspace(0, 10, 101)"
   ]
  },
  {
   "cell_type": "code",
   "execution_count": 6,
   "metadata": {
    "collapsed": false
   },
   "outputs": [],
   "source": [
    ">>> from scipy.integrate import odeint\n",
    ">>> sol = odeint(pend, y0, t, args=(b, c))"
   ]
  },
  {
   "cell_type": "code",
   "execution_count": 7,
   "metadata": {
    "collapsed": false
   },
   "outputs": [],
   "source": [
    ">>> import matplotlib.pyplot as plt\n",
    ">>> plt.plot(t, sol[:, 0], 'b', label='theta(t)')\n",
    ">>> plt.plot(t, sol[:, 1], 'g', label='omega(t)')\n",
    ">>> plt.legend(loc='best')\n",
    ">>> plt.xlabel('t')\n",
    ">>> plt.grid()\n",
    ">>> plt.show()"
   ]
  },
  {
   "cell_type": "code",
   "execution_count": 11,
   "metadata": {
    "collapsed": false
   },
   "outputs": [],
   "source": [
    "#Modifiacion 1, friccion = 0, theta = pi-0.1, c = 5\n",
    "def pend(y, t, b, c):\n",
    "    theta, omega = y\n",
    "    dydt = [omega, -b*omega - c*np.sin(theta)]\n",
    "    return dydt\n",
    "    \n",
    "b = 0.0\n",
    "c = 5.0\n",
    "y0 = [np.pi-0.1, 0.0]\n",
    "t = np.linspace(0, 100, 101)\n",
    "    \n",
    "from scipy.integrate import odeint\n",
    "sol = odeint(pend, y0, t, args=(b, c))\n",
    "import matplotlib.pyplot as plt\n",
    "   \n",
    "plt.plot(t, sol[:, 0], 'b', label='theta(t)')\n",
    "plt.plot(t, sol[:, 1], 'g', label='omega(t)')\n",
    "plt.legend(loc='best')\n",
    "plt.xlabel('t')\n",
    "plt.grid()\n",
    "plt.show()\n"
   ]
  },
  {
   "cell_type": "code",
   "execution_count": 13,
   "metadata": {
    "collapsed": true
   },
   "outputs": [],
   "source": [
    "#Caso 1, friccion = 0, theta = pi/4, c = 5\n",
    "def pend(y, t, b, c):\n",
    "    theta, omega = y\n",
    "    dydt = [omega, -b*omega - c*np.sin(theta)]\n",
    "    return dydt\n",
    "    \n",
    "b = 0\n",
    "c = 5.0\n",
    "y0 = [np.pi/4, 0.0]\n",
    "t = np.linspace(0, 100, 101)\n",
    "    \n",
    "from scipy.integrate import odeint\n",
    "sol = odeint(pend, y0, t, args=(b, c))\n",
    "import matplotlib.pyplot as plt\n",
    "   \n",
    "plt.plot(t, sol[:, 0], 'b', label='theta(t)')\n",
    "plt.plot(t, sol[:, 1], 'g', label='omega(t)')\n",
    "plt.legend(loc='best')\n",
    "plt.xlabel('t')\n",
    "plt.grid()\n",
    "plt.show()"
   ]
  },
  {
   "cell_type": "code",
   "execution_count": 14,
   "metadata": {
    "collapsed": true
   },
   "outputs": [],
   "source": [
    "#Caso 2, friccion = .5, theta = pi/4, c = 5\n",
    "def pend(y, t, b, c):\n",
    "    theta, omega = y\n",
    "    dydt = [omega, -b*omega - c*np.sin(theta)]\n",
    "    return dydt\n",
    "    \n",
    "b = 0.5\n",
    "c = 5.0\n",
    "y0 = [np.pi/4, 0.0]\n",
    "t = np.linspace(0, 100, 101)\n",
    "    \n",
    "from scipy.integrate import odeint\n",
    "sol = odeint(pend, y0, t, args=(b, c))\n",
    "import matplotlib.pyplot as plt\n",
    "   \n",
    "plt.plot(t, sol[:, 0], 'b', label='theta(t)')\n",
    "plt.plot(t, sol[:, 1], 'g', label='omega(t)')\n",
    "plt.legend(loc='best')\n",
    "plt.xlabel('t')\n",
    "plt.grid()\n",
    "plt.show()\n"
   ]
  },
  {
   "cell_type": "code",
   "execution_count": 15,
   "metadata": {
    "collapsed": true
   },
   "outputs": [],
   "source": [
    "#Caso 3, friccion = 0, theta = pi/4, c = .25\n",
    "def pend(y, t, b, c):\n",
    "    theta, omega = y\n",
    "    dydt = [omega, -b*omega - c*np.sin(theta)]\n",
    "    return dydt\n",
    "    \n",
    "b = 0.0\n",
    "c = .25\n",
    "y0 = [np.pi/4, 0.0]\n",
    "t = np.linspace(0, 100, 101)\n",
    "    \n",
    "from scipy.integrate import odeint\n",
    "sol = odeint(pend, y0, t, args=(b, c))\n",
    "import matplotlib.pyplot as plt\n",
    "   \n",
    "plt.plot(t, sol[:, 0], 'b', label='theta(t)')\n",
    "plt.plot(t, sol[:, 1], 'g', label='omega(t)')\n",
    "plt.legend(loc='best')\n",
    "plt.xlabel('t')\n",
    "plt.grid()\n",
    "plt.show()\n",
    "\n"
   ]
  },
  {
   "cell_type": "code",
   "execution_count": 18,
   "metadata": {
    "collapsed": true
   },
   "outputs": [],
   "source": [
    "#Caso 4, friccion = .6, theta = pi/4, c = 5\n",
    "def pend(y, t, b, c):\n",
    "    theta, omega = y\n",
    "    dydt = [omega, -b*omega - c*np.sin(theta)]\n",
    "    return dydt\n",
    "    \n",
    "b = 0.6\n",
    "c = 5.0\n",
    "y0 = [np.pi/4, 0.0]\n",
    "t = np.linspace(0, 100, 101)\n",
    "    \n",
    "from scipy.integrate import odeint\n",
    "sol = odeint(pend, y0, t, args=(b, c))\n",
    "import matplotlib.pyplot as plt\n",
    "   \n",
    "plt.plot(t, sol[:, 0], 'b', label='theta(t)')\n",
    "plt.plot(t, sol[:, 1], 'g', label='omega(t)')\n",
    "plt.legend(loc='best')\n",
    "plt.xlabel('t')\n",
    "plt.grid()\n",
    "plt.show()"
   ]
  },
  {
   "cell_type": "code",
   "execution_count": null,
   "metadata": {
    "collapsed": true
   },
   "outputs": [],
   "source": []
  }
 ],
 "metadata": {
  "kernelspec": {
   "display_name": "Python 2",
   "language": "python",
   "name": "python2"
  },
  "language_info": {
   "codemirror_mode": {
    "name": "ipython",
    "version": 2
   },
   "file_extension": ".py",
   "mimetype": "text/x-python",
   "name": "python",
   "nbconvert_exporter": "python",
   "pygments_lexer": "ipython2",
   "version": "2.7.10"
  }
 },
 "nbformat": 4,
 "nbformat_minor": 0
}
