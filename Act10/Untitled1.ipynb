{
 "cells": [
  {
   "cell_type": "code",
   "execution_count": 7,
   "metadata": {
    "collapsed": false
   },
   "outputs": [],
   "source": [
    "import numpy as np\n",
    "import matplotlib.pyplot as plt\n",
    "from matplotlib.lines import Line2D\n",
    "import matplotlib.animation as animation\n",
    "\n",
    "\n",
    "# This example uses subclassing, but there is no reason that the proper\n",
    "# function couldn't be set up and then use FuncAnimation. The code is long, but\n",
    "# not really complex. The length is due solely to the fact that there are a\n",
    "# total of 9 lines that need to be changed for the animation as well as 3\n",
    "# subplots that need initial set up.\n",
    "class SubplotAnimation(animation.TimedAnimation):\n",
    "    def __init__(self):\n",
    "        fig = plt.figure()\n",
    "        ax1 = fig.add_subplot(1, 2, 1)\n",
    "        \n",
    "        self.t = np.linspace(0, 80, 400)\n",
    "        self.x = np.cos(2 * np.pi * self.t / 10.)\n",
    "        self.y = np.sin(2 * np.pi * self.t / 10.)\n",
    "\n",
    "        ax1.set_xlabel('x')\n",
    "        ax1.set_ylabel('y')\n",
    "        self.line1 = Line2D([], [], color='black')\n",
    "        self.line1a = Line2D([], [], color='red', linewidth=2)\n",
    "        self.line1e = Line2D(\n",
    "            [], [], color='red', marker='o', markeredgecolor='r')\n",
    "        ax1.add_line(self.line1)\n",
    "        ax1.add_line(self.line1a)\n",
    "        ax1.add_line(self.line1e)\n",
    "        ax1.set_xlim(-1, 1)\n",
    "        ax1.set_ylim(-2, 2)\n",
    "        ax1.set_aspect('equal', 'datalim')\n",
    "\n",
    "\n",
    "        animation.TimedAnimation.__init__(self, fig, interval=50, blit=True)\n",
    "\n",
    "    def _draw_frame(self, framedata):\n",
    "        i = framedata\n",
    "        head = i - 1\n",
    "        head_len = 10\n",
    "        head_slice = (self.t > self.t[i] - 1.0) & (self.t < self.t[i])\n",
    "\n",
    "        self.line1.set_data(self.x[:i], self.y[:i])\n",
    "        self.line1a.set_data(self.x[head_slice], self.y[head_slice])\n",
    "        self.line1e.set_data(self.x[head], self.y[head])\n",
    "\n",
    "       \n",
    "        self._drawn_artists = [self.line1, self.line1a, self.line1e]\n",
    "\n",
    "    def new_frame_seq(self):\n",
    "        return iter(range(self.t.size))\n",
    "\n",
    "    def _init_draw(self):\n",
    "        lines = [self.line1, self.line1a, self.line1e]\n",
    "        for l in lines:\n",
    "            l.set_data([], [])\n",
    "\n",
    "ani = SubplotAnimation()\n",
    "#ani.save('test_sub.mp4')\n",
    "plt.show()"
   ]
  },
  {
   "cell_type": "code",
   "execution_count": null,
   "metadata": {
    "collapsed": true
   },
   "outputs": [],
   "source": []
  }
 ],
 "metadata": {
  "kernelspec": {
   "display_name": "Python 2",
   "language": "python",
   "name": "python2"
  },
  "language_info": {
   "codemirror_mode": {
    "name": "ipython",
    "version": 2
   },
   "file_extension": ".py",
   "mimetype": "text/x-python",
   "name": "python",
   "nbconvert_exporter": "python",
   "pygments_lexer": "ipython2",
   "version": "2.7.10"
  }
 },
 "nbformat": 4,
 "nbformat_minor": 0
}
