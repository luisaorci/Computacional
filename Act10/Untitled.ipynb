{
 "cells": [
  {
   "cell_type": "code",
   "execution_count": 1,
   "metadata": {
    "collapsed": false
   },
   "outputs": [
    {
     "data": {
      "text/plain": [
       "<matplotlib.legend.Legend at 0x7f5d84767710>"
      ]
     },
     "execution_count": 1,
     "metadata": {},
     "output_type": "execute_result"
    }
   ],
   "source": [
    "# zombie apocalypse modeling\n",
    "import numpy as np\n",
    "import matplotlib.pyplot as plt\n",
    "from scipy.integrate import odeint\n",
    "plt.ion()\n",
    "plt.rcParams['figure.figsize'] = 10, 8\n",
    "\n",
    "P = 0           # birth rate\n",
    "d = 0.0001  # natural death percent (per day)\n",
    "B = 0.0095  # transmission percent  (per day)\n",
    "G = 0.0001  # resurect percent (per day)\n",
    "A = 0.0001  # destroy percent  (per day)\n",
    "\n",
    "# solve the system dy/dt = f(y, t)\n",
    "def f(y, t):\n",
    "    Si = y[0]\n",
    "    Zi = y[1]\n",
    "    Ri = y[2]\n",
    "    # the model equations (see Munz et al. 2009)\n",
    "    f0 = P - B*Si*Zi - d*Si\n",
    "    f1 = B*Si*Zi + G*Ri - A*Si*Zi\n",
    "    f2 = d*Si + A*Si*Zi - G*Ri\n",
    "    return [f0, f1, f2]\n",
    "\n",
    "# initial conditions\n",
    "S0 = 500.                   # initial population\n",
    "Z0 = 0                      # initial zombie population\n",
    "R0 = 0                      # initial death population\n",
    "y0 = [S0, Z0, R0]   # initial condition vector\n",
    "t  = np.linspace(0, 5., 1000)       # time grid\n",
    "\n",
    "# solve the DEs\n",
    "soln = odeint(f, y0, t)\n",
    "S = soln[:, 0]\n",
    "Z = soln[:, 1]\n",
    "R = soln[:, 2]\n",
    "\n",
    "# plot results\n",
    "plt.figure()\n",
    "plt.plot(t, S, label='Living')\n",
    "plt.plot(t, Z, label='Zombies')\n",
    "plt.xlabel('Days from outbreak')\n",
    "plt.ylabel('Population')\n",
    "plt.title('Zombie Apocalypse - No Init. Dead Pop.; No New Births.')\n",
    "plt.legend(loc=0)\n",
    "\n",
    "# change the initial conditions\n",
    "R0 = 0.01*S0   # 1% of initial pop is dead\n",
    "y0 = [S0, Z0, R0]\n",
    "\n",
    "# solve the DEs\n",
    "soln = odeint(f, y0, t)\n",
    "S = soln[:, 0]\n",
    "Z = soln[:, 1]\n",
    "R = soln[:, 2]\n",
    "\n",
    "plt.figure()\n",
    "plt.plot(t, S, label='Living')\n",
    "plt.plot(t, Z, label='Zombies')\n",
    "plt.xlabel('Days from outbreak')\n",
    "plt.ylabel('Population')\n",
    "plt.title('Zombie Apocalypse - 1% Init. Pop. is Dead; No New Births.')\n",
    "plt.legend(loc=0)\n",
    "\n",
    "# change the initial conditions\n",
    "R0 = 0.01*S0   # 1% of initial pop is dead\n",
    "P  = 10        # 10 new births daily\n",
    "y0 = [S0, Z0, R0]\n",
    "\n",
    "# solve the DEs\n",
    "soln = odeint(f, y0, t)\n",
    "S = soln[:, 0]\n",
    "Z = soln[:, 1]\n",
    "R = soln[:, 2]\n",
    "\n",
    "plt.figure()\n",
    "plt.plot(t, S, label='Living')\n",
    "plt.plot(t, Z, label='Zombies')\n",
    "plt.xlabel('Days from outbreak')\n",
    "plt.ylabel('Population')\n",
    "plt.title('Zombie Apocalypse - 1% Init. Pop. is Dead; 10 Daily Births')\n",
    "plt.legend(loc=0)"
   ]
  },
  {
   "cell_type": "code",
   "execution_count": null,
   "metadata": {
    "collapsed": true
   },
   "outputs": [],
   "source": []
  }
 ],
 "metadata": {
  "kernelspec": {
   "display_name": "Python 2",
   "language": "python",
   "name": "python2"
  },
  "language_info": {
   "codemirror_mode": {
    "name": "ipython",
    "version": 2
   },
   "file_extension": ".py",
   "mimetype": "text/x-python",
   "name": "python",
   "nbconvert_exporter": "python",
   "pygments_lexer": "ipython2",
   "version": "2.7.10"
  }
 },
 "nbformat": 4,
 "nbformat_minor": 0
}
